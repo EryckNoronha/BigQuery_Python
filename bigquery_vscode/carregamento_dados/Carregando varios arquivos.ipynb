{
 "cells": [
  {
   "cell_type": "code",
   "execution_count": 4,
   "metadata": {},
   "outputs": [],
   "source": [
    "import pandas as pd\n",
    "from google.cloud import bigquery\n",
    "from google.oauth2 import service_account\n",
    "from pandas_gbq import to_gbq"
   ]
  },
  {
   "cell_type": "code",
   "execution_count": 5,
   "metadata": {},
   "outputs": [],
   "source": [
    "Produto     = pd.read_excel(r\"C:\\Users\\Eryck de Noronha\\Documents\\GitHub\\BigQuery_Python\\arquivos\\execel\\ecommecer\\Produto.xlsx\")\n",
    "items       = pd.read_excel(r\"C:\\Users\\Eryck de Noronha\\Documents\\GitHub\\BigQuery_Python\\arquivos\\execel\\ecommecer\\items.xlsx\")\n",
    "ordens      = pd.read_excel(r\"C:\\Users\\Eryck de Noronha\\Documents\\GitHub\\BigQuery_Python\\arquivos\\execel\\ecommecer\\Ordens.xlsx\")\n",
    "Categoria   = pd.read_excel(r\"C:\\Users\\Eryck de Noronha\\Documents\\GitHub\\BigQuery_Python\\arquivos\\execel\\ecommecer\\Categoria.xlsx\")\n",
    "clientes    = pd.read_csv  (r\"C:\\Users\\Eryck de Noronha\\Documents\\GitHub\\BigQuery_Python\\arquivos\\execel\\ecommecer\\Clientes.csv\",delimiter=\",\")"
   ]
  },
  {
   "cell_type": "code",
   "execution_count": 6,
   "metadata": {},
   "outputs": [],
   "source": [
    "#Categoria.head()"
   ]
  },
  {
   "cell_type": "code",
   "execution_count": 7,
   "metadata": {},
   "outputs": [],
   "source": [
    "projeto     ='projetopython-417314'\n",
    "dataset     ='Ecommerce'\n",
    "BQproduto   ='Produto'\n",
    "BQitems     ='Items'\n",
    "BQordens    ='Ordens'\n",
    "BQCategoria ='Categoria'\n",
    "BQclientes  ='clientes'\n",
    "parameretro ='replace'    "
   ]
  },
  {
   "cell_type": "code",
   "execution_count": 8,
   "metadata": {},
   "outputs": [],
   "source": [
    "credencial = service_account.Credentials.from_service_account_file(\n",
    "    r'C:\\Users\\Eryck de Noronha\\Documents\\BigQuery_python_git\\Google BigQuery\\altenticação\\projetopython-417314-d20993336969.json',\n",
    "    scopes=['https://www.googleapis.com/auth/bigquery']\n",
    ")"
   ]
  },
  {
   "cell_type": "code",
   "execution_count": 9,
   "metadata": {},
   "outputs": [
    {
     "name": "stderr",
     "output_type": "stream",
     "text": [
      "C:\\Users\\Eryck de Noronha\\AppData\\Local\\Temp\\ipykernel_24892\\1829535789.py:1: FutureWarning: to_gbq is deprecated and will be removed in a future version. Please use pandas_gbq.to_gbq instead: https://pandas-gbq.readthedocs.io/en/latest/api.html#pandas_gbq.to_gbq\n",
      "  Produto.to_gbq(destination_table=f'{projeto}.{dataset}.{BQproduto}',\n",
      "100%|██████████| 1/1 [00:00<?, ?it/s]\n"
     ]
    }
   ],
   "source": [
    "Produto.to_gbq(destination_table=f'{projeto}.{dataset}.{BQproduto}',   \n",
    "          project_id=projeto,\n",
    "          if_exists=parameretro,\n",
    "          credentials=credencial)"
   ]
  },
  {
   "cell_type": "code",
   "execution_count": 10,
   "metadata": {},
   "outputs": [
    {
     "name": "stderr",
     "output_type": "stream",
     "text": [
      "C:\\Users\\Eryck de Noronha\\AppData\\Local\\Temp\\ipykernel_24892\\2322999571.py:1: FutureWarning: to_gbq is deprecated and will be removed in a future version. Please use pandas_gbq.to_gbq instead: https://pandas-gbq.readthedocs.io/en/latest/api.html#pandas_gbq.to_gbq\n",
      "  items.to_gbq(destination_table=f'{projeto}.{dataset}.{BQitems}',\n",
      "100%|██████████| 1/1 [00:00<?, ?it/s]\n"
     ]
    }
   ],
   "source": [
    "items.to_gbq(destination_table=f'{projeto}.{dataset}.{BQitems}',   \n",
    "          project_id=projeto,\n",
    "          if_exists=parameretro,\n",
    "          credentials=credencial)"
   ]
  },
  {
   "cell_type": "code",
   "execution_count": 11,
   "metadata": {},
   "outputs": [
    {
     "name": "stderr",
     "output_type": "stream",
     "text": [
      "C:\\Users\\Eryck de Noronha\\AppData\\Local\\Temp\\ipykernel_24892\\308588126.py:1: FutureWarning: to_gbq is deprecated and will be removed in a future version. Please use pandas_gbq.to_gbq instead: https://pandas-gbq.readthedocs.io/en/latest/api.html#pandas_gbq.to_gbq\n",
      "  ordens.to_gbq(destination_table=f'{projeto}.{dataset}.{BQordens}',\n",
      "100%|██████████| 1/1 [00:00<?, ?it/s]\n"
     ]
    }
   ],
   "source": [
    "ordens.to_gbq(destination_table=f'{projeto}.{dataset}.{BQordens}',   \n",
    "          project_id=projeto,\n",
    "          if_exists=parameretro,\n",
    "          credentials=credencial)"
   ]
  },
  {
   "cell_type": "code",
   "execution_count": 12,
   "metadata": {},
   "outputs": [
    {
     "name": "stderr",
     "output_type": "stream",
     "text": [
      "C:\\Users\\Eryck de Noronha\\AppData\\Local\\Temp\\ipykernel_24892\\676421911.py:1: FutureWarning: to_gbq is deprecated and will be removed in a future version. Please use pandas_gbq.to_gbq instead: https://pandas-gbq.readthedocs.io/en/latest/api.html#pandas_gbq.to_gbq\n",
      "  Categoria.to_gbq(destination_table=f'{projeto}.{dataset}.{BQCategoria}',\n",
      "100%|██████████| 1/1 [00:00<00:00, 1107.85it/s]\n"
     ]
    }
   ],
   "source": [
    "Categoria.to_gbq(destination_table=f'{projeto}.{dataset}.{BQCategoria}',   \n",
    "          project_id=projeto,\n",
    "          if_exists=parameretro,\n",
    "          credentials=credencial)"
   ]
  },
  {
   "cell_type": "code",
   "execution_count": 13,
   "metadata": {},
   "outputs": [
    {
     "name": "stderr",
     "output_type": "stream",
     "text": [
      "C:\\Users\\Eryck de Noronha\\AppData\\Local\\Temp\\ipykernel_24892\\3718627347.py:2: FutureWarning: to_gbq is deprecated and will be removed in a future version. Please use pandas_gbq.to_gbq instead: https://pandas-gbq.readthedocs.io/en/latest/api.html#pandas_gbq.to_gbq\n",
      "  clientes.to_gbq(destination_table=f'{projeto}.{dataset}.{BQclientes}',\n",
      "100%|██████████| 1/1 [00:00<?, ?it/s]\n"
     ]
    }
   ],
   "source": [
    "# Realiza a carga de tabela de clientes \n",
    "clientes.to_gbq(destination_table=f'{projeto}.{dataset}.{BQclientes}',   \n",
    "          project_id=projeto,\n",
    "          if_exists=parameretro,\n",
    "          credentials=credencial)"
   ]
  }
 ],
 "metadata": {
  "kernelspec": {
   "display_name": "Python 3",
   "language": "python",
   "name": "python3"
  },
  "language_info": {
   "codemirror_mode": {
    "name": "ipython",
    "version": 3
   },
   "file_extension": ".py",
   "mimetype": "text/x-python",
   "name": "python",
   "nbconvert_exporter": "python",
   "pygments_lexer": "ipython3",
   "version": "3.11.2"
  },
  "orig_nbformat": 4
 },
 "nbformat": 4,
 "nbformat_minor": 2
}
