{
 "cells": [
  {
   "cell_type": "code",
   "execution_count": 1,
   "metadata": {},
   "outputs": [],
   "source": [
    "#!pip install schedule"
   ]
  },
  {
   "cell_type": "code",
   "execution_count": 1,
   "metadata": {},
   "outputs": [
    {
     "name": "stdout",
     "output_type": "stream",
     "text": [
      "Estou funcionando\n",
      "Estou funcionando\n",
      "Estou funcionando\n",
      "Estou funcionando\n",
      "Estou funcionando\n",
      "Estou funcionando\n",
      "Estou funcionando\n",
      "Estou funcionando\n",
      "Estou funcionando\n",
      "Estou funcionando\n",
      "Estou funcionando\n",
      "Estou funcionando\n"
     ]
    },
    {
     "ename": "KeyboardInterrupt",
     "evalue": "",
     "output_type": "error",
     "traceback": [
      "\u001b[1;31m---------------------------------------------------------------------------\u001b[0m",
      "\u001b[1;31mKeyboardInterrupt\u001b[0m                         Traceback (most recent call last)",
      "Cell \u001b[1;32mIn[1], line 20\u001b[0m\n\u001b[0;32m     18\u001b[0m \u001b[39mwhile\u001b[39;00m \u001b[39mTrue\u001b[39;00m:\n\u001b[0;32m     19\u001b[0m     schedule\u001b[39m.\u001b[39mrun_pending()\n\u001b[1;32m---> 20\u001b[0m     time\u001b[39m.\u001b[39;49msleep(\u001b[39m1\u001b[39;49m)\n",
      "\u001b[1;31mKeyboardInterrupt\u001b[0m: "
     ]
    }
   ],
   "source": [
    "import schedule\n",
    "import time\n",
    "\n",
    "def meu_projeto():\n",
    "    # Coloque aqui o código do seu projeto que você deseja executar\n",
    "    print(\"Estou funcionando\")\n",
    "\n",
    "# Função para agendar a execução do projeto todos os dias às 10 horas\n",
    "#def agendar_projeto():\n",
    "#    schedule.every().day.at(\"10:00\").do(meu_projeto)\n",
    "# Função para agendar a execução do projeto a cada 5 segundos\n",
    "def agendar_projeto():\n",
    "    schedule.every(1).seconds.do(meu_projeto)\n",
    "    # Agendar o projeto\n",
    "agendar_projeto()\n",
    "\n",
    "# Loop para manter o programa em execução\n",
    "while True:\n",
    "    schedule.run_pending()\n",
    "    time.sleep(1)"
   ]
  }
 ],
 "metadata": {
  "kernelspec": {
   "display_name": "Python 3",
   "language": "python",
   "name": "python3"
  },
  "language_info": {
   "codemirror_mode": {
    "name": "ipython",
    "version": 3
   },
   "file_extension": ".py",
   "mimetype": "text/x-python",
   "name": "python",
   "nbconvert_exporter": "python",
   "pygments_lexer": "ipython3",
   "version": "3.12.0"
  },
  "orig_nbformat": 4,
  "vscode": {
   "interpreter": {
    "hash": "d7745f7eca849f758358fa99aa9bf1ba6cff5a04ee3b21399bd57c139b25ca6e"
   }
  }
 },
 "nbformat": 4,
 "nbformat_minor": 2
}
